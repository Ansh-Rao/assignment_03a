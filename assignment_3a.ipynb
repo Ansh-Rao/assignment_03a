{
 "cells": [
  {
   "cell_type": "markdown",
   "id": "990a1213-cc76-4ac6-8d42-4beb8f366d98",
   "metadata": {},
   "source": [
    "#### Q1. Which keyword is used to create a function? Create a function to return a list of odd numbers in the \n",
    "#### range of 1 to 25.\n"
   ]
  },
  {
   "cell_type": "code",
   "execution_count": 3,
   "id": "10e09db9-50ec-49d2-8861-06c89b163fc5",
   "metadata": {},
   "outputs": [],
   "source": [
    "# keyword is used to create a function are :-\n",
    "\n",
    "# def function_name(parameters)"
   ]
  },
  {
   "cell_type": "code",
   "execution_count": 34,
   "id": "a7c603dc-8de8-41cf-89c7-73e4ca68ea56",
   "metadata": {},
   "outputs": [],
   "source": [
    "#  A function to return a list of odd numbers in the range of 1 to 25 are :-\n",
    "def odd():\n",
    "    start, end =1,25\n",
    "    for i in range(start, end+1):\n",
    "        if i%2!=0:\n",
    "            print(i)\n",
    "\n"
   ]
  },
  {
   "cell_type": "code",
   "execution_count": 33,
   "id": "0b186474-0a27-4163-87a7-8658f2fdc095",
   "metadata": {},
   "outputs": [
    {
     "name": "stdout",
     "output_type": "stream",
     "text": [
      "1\n",
      "3\n",
      "5\n",
      "7\n",
      "9\n",
      "11\n",
      "13\n",
      "15\n",
      "17\n",
      "19\n",
      "21\n",
      "23\n",
      "25\n"
     ]
    }
   ],
   "source": [
    "odd()"
   ]
  },
  {
   "cell_type": "code",
   "execution_count": null,
   "id": "0c877fa7-1e93-4575-aaac-315bf5e27611",
   "metadata": {},
   "outputs": [],
   "source": []
  },
  {
   "cell_type": "code",
   "execution_count": null,
   "id": "46f8f267-b8a6-47fa-83dd-6fb7ec2baeef",
   "metadata": {},
   "outputs": [],
   "source": []
  },
  {
   "cell_type": "markdown",
   "id": "ec8cde7c-2603-41bc-b64b-771308b0dbb0",
   "metadata": {},
   "source": [
    "#### Q2. Why *args and **kwargs is used in some functions? Create a function each for *args and **kwargs \n",
    "#### to demonstrate their use."
   ]
  },
  {
   "cell_type": "code",
   "execution_count": 35,
   "id": "fb7b1be1-ef7b-421c-96b0-41262bca1576",
   "metadata": {},
   "outputs": [],
   "source": [
    "#   *args  is used to pass a variable number of arguments to a function.\n",
    "#  **kwargs  is used to pass a keyworded, variable-length argument list."
   ]
  },
  {
   "cell_type": "code",
   "execution_count": 40,
   "id": "020695c2-e9e7-467b-a14e-1c1e0a738f35",
   "metadata": {},
   "outputs": [],
   "source": [
    "# *arg \n",
    "\n",
    "def test(*arg):\n",
    "    for i in arg:\n",
    "        print(i)\n",
    "        "
   ]
  },
  {
   "cell_type": "code",
   "execution_count": 41,
   "id": "4a898807-61ca-4dbe-b65d-54980bc89aca",
   "metadata": {},
   "outputs": [
    {
     "name": "stdout",
     "output_type": "stream",
     "text": [
      "hello\n",
      "good\n"
     ]
    }
   ],
   "source": [
    "test('hello','good')"
   ]
  },
  {
   "cell_type": "code",
   "execution_count": 43,
   "id": "4fd91921-3786-40ae-a08a-b4717fbb8c98",
   "metadata": {},
   "outputs": [],
   "source": [
    "# **kwarg \n",
    "\n",
    "def test2(**kwarg):\n",
    "    for key, value in kwarg.items():\n",
    "        print(\"%s == %s \" % (key, value))"
   ]
  },
  {
   "cell_type": "code",
   "execution_count": 45,
   "id": "59e5e070-20b9-4dc3-b15c-f0a2084e6a47",
   "metadata": {},
   "outputs": [
    {
     "name": "stdout",
     "output_type": "stream",
     "text": [
      "first_name == ansh \n",
      "last_name == rao \n"
     ]
    }
   ],
   "source": [
    "test2(first_name=\"ansh\" , last_name=\"rao\")"
   ]
  },
  {
   "cell_type": "code",
   "execution_count": null,
   "id": "45680b45-cb4b-4869-ad57-7b90ef6ef6ae",
   "metadata": {},
   "outputs": [],
   "source": []
  },
  {
   "cell_type": "code",
   "execution_count": null,
   "id": "850a51e9-fb9c-4b73-8e62-e21b78898af2",
   "metadata": {},
   "outputs": [],
   "source": []
  },
  {
   "cell_type": "markdown",
   "id": "2ba70a96-0fb1-4772-a135-42f568f6fe62",
   "metadata": {},
   "source": [
    "#### Q3.  What is an iterator in python? Name the method used to initialise the iterator object and the method \n",
    "#### used for iteration. Use these methods to print the first five elements of the given list [2, 4, 6, 8, 10, 12, 14, \n",
    "#### 16, 18, 20]."
   ]
  },
  {
   "cell_type": "code",
   "execution_count": null,
   "id": "f54e62e8-447a-4b6e-8af6-d807b5a0b293",
   "metadata": {},
   "outputs": [],
   "source": [
    "# iterator :- data in which  we can go by next-next(one by one) and get value ,     ex:- generator object"
   ]
  },
  {
   "cell_type": "code",
   "execution_count": null,
   "id": "186b1a9f-48c9-4339-b45b-d83fc3c63b70",
   "metadata": {},
   "outputs": [],
   "source": [
    "# \"iter\"  method used to initialise the iterator object and \n",
    "#  \"next\" method used for iteration"
   ]
  },
  {
   "cell_type": "code",
   "execution_count": 63,
   "id": "727da86d-2d7b-41af-a744-7d22d9d5adc8",
   "metadata": {},
   "outputs": [],
   "source": [
    "l=[2, 4, 6, 8, 10, 12, 14, 16, 18, 20]"
   ]
  },
  {
   "cell_type": "code",
   "execution_count": 64,
   "id": "b6db1eae-bce5-4082-a5f0-06f11f9d0be5",
   "metadata": {},
   "outputs": [
    {
     "data": {
      "text/plain": [
       "list"
      ]
     },
     "execution_count": 64,
     "metadata": {},
     "output_type": "execute_result"
    }
   ],
   "source": [
    "type(l)"
   ]
  },
  {
   "cell_type": "code",
   "execution_count": 65,
   "id": "818543d2-a8e5-46a9-8d34-9fb9081c4275",
   "metadata": {},
   "outputs": [],
   "source": [
    "l1=iter(l)"
   ]
  },
  {
   "cell_type": "code",
   "execution_count": 66,
   "id": "5c550199-00b5-45bf-afa7-5c20fb0a1773",
   "metadata": {},
   "outputs": [
    {
     "data": {
      "text/plain": [
       "list_iterator"
      ]
     },
     "execution_count": 66,
     "metadata": {},
     "output_type": "execute_result"
    }
   ],
   "source": [
    "type(l1)"
   ]
  },
  {
   "cell_type": "code",
   "execution_count": 67,
   "id": "0efd3b28-4565-4138-899b-f7a95d190548",
   "metadata": {},
   "outputs": [
    {
     "name": "stdout",
     "output_type": "stream",
     "text": [
      "2\n",
      "4\n",
      "6\n",
      "8\n",
      "10\n"
     ]
    }
   ],
   "source": [
    "for i in range(5):\n",
    "    print(next(l1))"
   ]
  },
  {
   "cell_type": "code",
   "execution_count": null,
   "id": "84aa2e2c-3605-4638-993c-5abae68010b1",
   "metadata": {},
   "outputs": [],
   "source": []
  },
  {
   "cell_type": "code",
   "execution_count": null,
   "id": "c75709c9-dae7-4b50-8e3d-cfd86d246258",
   "metadata": {},
   "outputs": [],
   "source": []
  },
  {
   "cell_type": "markdown",
   "id": "baccc525-c8be-4e8d-8e72-266e5f292747",
   "metadata": {},
   "source": [
    "#### Q4.  What is a generator function in python? Why yield keyword is used? Give an example of a generator \n",
    "#### function."
   ]
  },
  {
   "cell_type": "code",
   "execution_count": 44,
   "id": "bd300279-c52b-4d69-9643-30198603cd70",
   "metadata": {},
   "outputs": [],
   "source": [
    "#   Generator function returns an iterator that produces a sequence of values when iterated over.\n",
    "\n",
    "# to  create a generator function :-\n",
    "\n",
    "#   def generator_name(arg):\n",
    "    # statements\n",
    "#    yield something"
   ]
  },
  {
   "cell_type": "code",
   "execution_count": 45,
   "id": "fde09355-cb19-4def-9bfe-59522b76d929",
   "metadata": {},
   "outputs": [],
   "source": [
    "#  \"yield\" keyword is used to produce a value from the generator"
   ]
  },
  {
   "cell_type": "code",
   "execution_count": 53,
   "id": "5a7e55c1-2017-45b5-8f29-e30324e82a33",
   "metadata": {},
   "outputs": [],
   "source": [
    "# example\n",
    "\n",
    "def fibb():\n",
    "    a,b=0,1\n",
    "    while True:\n",
    "        yield a\n",
    "        a,b =b,a+b"
   ]
  },
  {
   "cell_type": "code",
   "execution_count": 58,
   "id": "aabb2a1f-2957-430e-a5a0-a6f484aac14e",
   "metadata": {},
   "outputs": [],
   "source": [
    "fib=fibb()"
   ]
  },
  {
   "cell_type": "code",
   "execution_count": 59,
   "id": "cb882eaf-d61d-4b87-9a61-8a56176ea4fa",
   "metadata": {},
   "outputs": [
    {
     "name": "stdout",
     "output_type": "stream",
     "text": [
      "0\n",
      "1\n",
      "1\n",
      "2\n",
      "3\n",
      "5\n",
      "8\n",
      "13\n",
      "21\n",
      "34\n"
     ]
    }
   ],
   "source": [
    "for i in range(10):\n",
    "    print(next(fib))"
   ]
  },
  {
   "cell_type": "code",
   "execution_count": 52,
   "id": "b1228f45-20f9-4ccd-959b-2dfe00028586",
   "metadata": {},
   "outputs": [
    {
     "data": {
      "text/plain": [
       "generator"
      ]
     },
     "execution_count": 52,
     "metadata": {},
     "output_type": "execute_result"
    }
   ],
   "source": [
    "type(fib)"
   ]
  },
  {
   "cell_type": "code",
   "execution_count": null,
   "id": "1e45c302-452b-4a61-bf70-dc15a9003590",
   "metadata": {},
   "outputs": [],
   "source": []
  },
  {
   "cell_type": "code",
   "execution_count": null,
   "id": "e4a930e2-2d7e-4cd9-9107-7db324f1e88f",
   "metadata": {},
   "outputs": [],
   "source": []
  },
  {
   "cell_type": "markdown",
   "id": "1c80b166-b055-454b-bf48-154132c7ee71",
   "metadata": {},
   "source": [
    "#### Q5. Create a generator function for prime numbers less than 1000. Use the next() method to print the \n",
    "#### first 20 prime numbers."
   ]
  },
  {
   "cell_type": "code",
   "execution_count": 44,
   "id": "c8d070d4-8d62-447c-b854-084829a5be7d",
   "metadata": {},
   "outputs": [],
   "source": [
    "def prime():\n",
    "    for num in range(2,1000):\n",
    "        for i in range(2,num):\n",
    "            if (num%i)==0:\n",
    "                break\n",
    "         \n",
    "        else:\n",
    "            yield num\n",
    "                \n",
    "    "
   ]
  },
  {
   "cell_type": "code",
   "execution_count": 46,
   "id": "823eddbc-a8aa-41a0-8a84-502d7cfd4539",
   "metadata": {},
   "outputs": [],
   "source": [
    "pr=prime()"
   ]
  },
  {
   "cell_type": "code",
   "execution_count": 47,
   "id": "dbd8bf4d-9959-4137-8ea4-3af4d081277f",
   "metadata": {},
   "outputs": [
    {
     "name": "stdout",
     "output_type": "stream",
     "text": [
      "2\n",
      "3\n",
      "5\n",
      "7\n",
      "11\n",
      "13\n",
      "17\n",
      "19\n",
      "23\n",
      "29\n",
      "31\n",
      "37\n",
      "41\n",
      "43\n",
      "47\n",
      "53\n",
      "59\n",
      "61\n",
      "67\n",
      "71\n"
     ]
    }
   ],
   "source": [
    "for i in range(20):\n",
    "    print(next(pr))"
   ]
  },
  {
   "cell_type": "code",
   "execution_count": null,
   "id": "a171598d-fd47-473f-91cb-05ef2d37a055",
   "metadata": {},
   "outputs": [],
   "source": []
  },
  {
   "cell_type": "code",
   "execution_count": null,
   "id": "3badb569-8075-44cd-aee3-765edd7c7e16",
   "metadata": {},
   "outputs": [],
   "source": []
  },
  {
   "cell_type": "markdown",
   "id": "88a4e78f-2cd1-420e-a55f-6be02c995fee",
   "metadata": {},
   "source": [
    "#### Q6. Write a python program to print the first 10 Fibonacci numbers using a while loop."
   ]
  },
  {
   "cell_type": "code",
   "execution_count": 52,
   "id": "f1f8c1ec-8163-4d03-b198-74c8be32717e",
   "metadata": {},
   "outputs": [],
   "source": [
    "def fibo():\n",
    "    a,b=0,1\n",
    "    while True:\n",
    "        yield a \n",
    "        a,b=b,a+b"
   ]
  },
  {
   "cell_type": "code",
   "execution_count": 53,
   "id": "09a9a5f6-6075-4414-9c7a-401d50452508",
   "metadata": {},
   "outputs": [],
   "source": [
    "fib=fibo()"
   ]
  },
  {
   "cell_type": "code",
   "execution_count": 54,
   "id": "eb4c03b9-7f6a-4ec6-9deb-fc611f427373",
   "metadata": {},
   "outputs": [
    {
     "name": "stdout",
     "output_type": "stream",
     "text": [
      "0\n",
      "1\n",
      "1\n",
      "2\n",
      "3\n",
      "5\n",
      "8\n",
      "13\n",
      "21\n",
      "34\n"
     ]
    }
   ],
   "source": [
    "for i in range(10):\n",
    "    print(next(fib))"
   ]
  },
  {
   "cell_type": "code",
   "execution_count": null,
   "id": "58d3d2c3-d11b-457c-8e6d-93fad6aee7a9",
   "metadata": {},
   "outputs": [],
   "source": []
  },
  {
   "cell_type": "code",
   "execution_count": null,
   "id": "5d72b330-5d81-471e-b5e9-5ea30994fe45",
   "metadata": {},
   "outputs": [],
   "source": []
  },
  {
   "cell_type": "markdown",
   "id": "3d345125-785e-4a3c-8098-b524c9b38f8a",
   "metadata": {},
   "source": [
    "#### Q7. Write a List Comprehension to iterate through the given string: ‘pwskills’.\n",
    "\n",
    "#### Expected output: ['p', 'w', 's', 'k', 'i', 'l', 'l', 's'] "
   ]
  },
  {
   "cell_type": "code",
   "execution_count": 56,
   "id": "9758f463-99db-4fb6-8c4e-42223750865d",
   "metadata": {},
   "outputs": [],
   "source": [
    "s=\"pwskills\""
   ]
  },
  {
   "cell_type": "code",
   "execution_count": 57,
   "id": "e9c0f467-b964-4b3b-aea1-32f3e72a0141",
   "metadata": {},
   "outputs": [],
   "source": [
    "l=[]\n",
    "for i in s:\n",
    "    l.append(i)"
   ]
  },
  {
   "cell_type": "code",
   "execution_count": 68,
   "id": "f863c51b-1056-411d-96b0-e19c7dec919f",
   "metadata": {},
   "outputs": [
    {
     "data": {
      "text/plain": [
       "['p', 'w', 's', 'k', 'i', 'l', 'l', 's']"
      ]
     },
     "execution_count": 68,
     "metadata": {},
     "output_type": "execute_result"
    }
   ],
   "source": [
    "l"
   ]
  },
  {
   "cell_type": "code",
   "execution_count": null,
   "id": "61d9b048-ecaf-45e0-9903-2294da650e19",
   "metadata": {},
   "outputs": [],
   "source": []
  },
  {
   "cell_type": "code",
   "execution_count": null,
   "id": "122bf6f5-7511-4e6b-a558-57fdf0ad6021",
   "metadata": {},
   "outputs": [],
   "source": []
  },
  {
   "cell_type": "markdown",
   "id": "cab600aa-bf2a-46cf-9b06-43757873dcc3",
   "metadata": {},
   "source": [
    "#### Q8. Write a python program to check whether a given number is Palindrome or not using a while loop."
   ]
  },
  {
   "cell_type": "code",
   "execution_count": 59,
   "id": "f00b8ee6-2651-447b-89f4-51b30403684e",
   "metadata": {},
   "outputs": [
    {
     "name": "stdin",
     "output_type": "stream",
     "text": [
      "Enter any number: 456\n"
     ]
    },
    {
     "name": "stdout",
     "output_type": "stream",
     "text": [
      "Not a palindrome!\n"
     ]
    }
   ],
   "source": [
    "num=int(input(\"Enter any number:\"))\n",
    "temp=num\n",
    "rev=0\n",
    "while(num>0):\n",
    "    dig=num%10\n",
    "    rev=rev*10+dig\n",
    "    num=num//10\n",
    "if(temp==rev):\n",
    "    print(\"The {0} number is palindrome!\".format(temp))\n",
    "else:\n",
    "    print(\"Not a palindrome!\")"
   ]
  },
  {
   "cell_type": "code",
   "execution_count": null,
   "id": "180ece24-b517-48f4-bd4b-2475cb42c861",
   "metadata": {},
   "outputs": [],
   "source": []
  },
  {
   "cell_type": "code",
   "execution_count": null,
   "id": "95cb70e8-3414-4cb3-811e-7378b89555ba",
   "metadata": {},
   "outputs": [],
   "source": []
  },
  {
   "cell_type": "markdown",
   "id": "bd0c68be-5dd9-4c0c-8eee-3a70c524cdab",
   "metadata": {},
   "source": [
    "#### Q9. Write a code to print odd numbers from 1 to 100 using list comprehension."
   ]
  },
  {
   "cell_type": "code",
   "execution_count": 61,
   "id": "bab7cc8b-4964-431e-be9d-613200d8b482",
   "metadata": {},
   "outputs": [
    {
     "name": "stdout",
     "output_type": "stream",
     "text": [
      "[1, 3, 5, 7, 9, 11, 13, 15, 17, 19, 21, 23, 25, 27, 29, 31, 33, 35, 37, 39, 41, 43, 45, 47, 49, 51, 53, 55, 57, 59, 61, 63, 65, 67, 69, 71, 73, 75, 77, 79, 81, 83, 85, 87, 89, 91, 93, 95, 97, 99]\n"
     ]
    }
   ],
   "source": [
    "odd_list = [element for element in range(1, 101) if element % 2 == 1 ]\n",
    "    \n",
    "print(odd_list)"
   ]
  },
  {
   "cell_type": "code",
   "execution_count": 64,
   "id": "168edcc0-493f-4150-8564-30a77a9969cc",
   "metadata": {},
   "outputs": [],
   "source": [
    "# or"
   ]
  },
  {
   "cell_type": "code",
   "execution_count": 62,
   "id": "a4726ce2-04c6-4978-be35-ac75201bc8b5",
   "metadata": {},
   "outputs": [],
   "source": [
    "def odd_numbers(n):\n",
    "    return [x for x in range(0, n) if x%2 != 0]"
   ]
  },
  {
   "cell_type": "code",
   "execution_count": 70,
   "id": "f68502fb-7504-4fe0-b02a-b59a309f337a",
   "metadata": {},
   "outputs": [
    {
     "name": "stdout",
     "output_type": "stream",
     "text": [
      "[1, 3, 5, 7, 9, 11, 13, 15, 17, 19, 21, 23, 25, 27, 29, 31, 33, 35, 37, 39, 41, 43, 45, 47, 49, 51, 53, 55, 57, 59, 61, 63, 65, 67, 69, 71, 73, 75, 77, 79, 81, 83, 85, 87, 89, 91, 93, 95, 97, 99]\n"
     ]
    }
   ],
   "source": [
    "print(odd_numbers(100))"
   ]
  },
  {
   "cell_type": "code",
   "execution_count": null,
   "id": "c981e94e-6d0f-4715-8d66-bc3eee4e4ce1",
   "metadata": {},
   "outputs": [],
   "source": []
  }
 ],
 "metadata": {
  "kernelspec": {
   "display_name": "Python 3 (ipykernel)",
   "language": "python",
   "name": "python3"
  },
  "language_info": {
   "codemirror_mode": {
    "name": "ipython",
    "version": 3
   },
   "file_extension": ".py",
   "mimetype": "text/x-python",
   "name": "python",
   "nbconvert_exporter": "python",
   "pygments_lexer": "ipython3",
   "version": "3.10.8"
  }
 },
 "nbformat": 4,
 "nbformat_minor": 5
}
